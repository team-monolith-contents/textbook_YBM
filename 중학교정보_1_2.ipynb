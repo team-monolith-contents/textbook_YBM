{
 "cells": [
  {
   "cell_type": "markdown",
   "id": "4cd46724-6014-43a2-ab51-dca66618fe86",
   "metadata": {},
   "source": [
    "<div style=\"padding: 15px; border: 5px solid transparent; border-color: transparent; margin-bottom: 20px; border-radius: 4px; color: #3c763d; background-color: #dff0d8; border-color: #d6e9c6; font-weight: bold;\">\n",
    "    <br><br>\n",
    "    <div style=\"font-weight: bold; font-size: 40px\">정보 문화</div>\n",
    "    <div style=\"font-weight: bold; font-size: 20px\">[02] 정보 윤리</div>\n",
    "    <hr style=\"width:80%;text-align:left;margin-left:0;border:0.5px solid green\">\n",
    "    <br>\n",
    "    &#x2022; 개인 정보의 의미와 중요성을 인식할 수 있다.<br>\n",
    "    &#x2022; 저작권의 의미와 중요성을 이해할 수 있다. <br>\n",
    "    &#x2022; 저작권 보호 방법을 실천할 수 있다. <br>\n",
    "    &#x2022; 사이버 윤리의 필요성을 이해하고, 사이버 폭력 예방 방법을 실천할 수 있다. <br>\n",
    "    &#x2022; 게임·인터넷·스마트폰 중독 예방법을 알고 실천할 수 있다.<br>\n",
    "</div>"
   ]
  },
  {
   "cell_type": "markdown",
   "id": "807d180e-b63b-46fa-8700-9316dc98eb55",
   "metadata": {},
   "source": [
    "<div style=\"padding: 15px; border: 5px solid transparent; border-color: transparent; margin-bottom: 20px; border-radius: 4px; color: #3c763d; border-color: #d6e9c6; font-weight: bold;\">\n",
    "<h2 style='font-weight: bold'>1. 개인 정보</h2>\n",
    "</div>"
   ]
  },
  {
   "cell_type": "markdown",
   "id": "e9f2bda7-2eec-4d88-80c9-81ec0bd80d9a",
   "metadata": {},
   "source": [
    "개인 정보란 주민 등록 번호나 운전면허 번호와 같이 하나의 정보로 그 사람을 다른 사람과 구별하여 알아볼 수 있는 정보를 말한다."
   ]
  },
  {
   "cell_type": "markdown",
   "id": "e31361a3-1471-4df3-8b32-85b48b9f85a0",
   "metadata": {},
   "source": [
    "<table>\n",
    "<tr>\n",
    "    <th><img src=\"https://tmn-bucket-materials-all.s3.ap-northeast-2.amazonaws.com/image/textbook/ybm_01_02_01.png\" width=\"700\"></th>\n",
    "    </tr>\n",
    "        <tr>\n",
    "        <th align='right'>\n",
    "        출처: KISA 온라인 개인정보보호 포털, https://www.i-privacy.kr/\n",
    "    </th>\n",
    "    </tr>\n",
    "<tr>\n",
    "    <th>다양한 개인 정보</th>\n",
    "</tr>\n",
    "</table>"
   ]
  },
  {
   "cell_type": "markdown",
   "id": "7c3ee94c-caae-4d46-bf9a-eddd56a405e2",
   "metadata": {},
   "source": [
    "온라인 게임, 정보 검색을 위해 회원가입하는 경우 이름, 생년월일, 주소, 전화번호 등이 안전하게 관리되지 않을 경우 개인 정보가 유출된다.\n",
    "\n",
    "개인 정보 침해 신고 상담 건수가 꾸준히 증가하다가 **'개인정보보호법'**(2014.08.07) 이 개정되면서 감소하였다가 다시 증가하고 있다. "
   ]
  },
  {
   "cell_type": "markdown",
   "id": "86078de3-90c0-40e6-a201-1c5f890b07cc",
   "metadata": {},
   "source": [
    "<table>\n",
    "<tr>\n",
    "    <th><img src=\"https://tmn-bucket-materials-all.s3.ap-northeast-2.amazonaws.com/image/textbook/ybm_01_02_02.png\" width=\"700\"></th>\n",
    "    </tr>\n",
    "        <tr>\n",
    "        <th align='right'>\n",
    "        출처: 국가지표체계, http://www.index.go.kr/\n",
    "    </th>\n",
    "    </tr>\n",
    "<tr>\n",
    "    <th>개인 정보 침해 신고 상담 건수</th>\n",
    "</tr>\n",
    "</table>"
   ]
  },
  {
   "cell_type": "markdown",
   "id": "d4066e1e-39b3-4373-8743-7d6c8876ce59",
   "metadata": {},
   "source": [
    "<table>\n",
    "<tr>\n",
    "    <th><img src=\"https://tmn-bucket-materials-all.s3.ap-northeast-2.amazonaws.com/image/textbook/ybm_01_02_03.png\" width=\"700\"></th>\n",
    "    </tr>\n",
    "        <th><img src=\"https://tmn-bucket-materials-all.s3.ap-northeast-2.amazonaws.com/image/textbook/ybm_01_02_04.png\" width=\"700\"></th>\n",
    "    </tr>\n",
    "        <tr>\n",
    "        <th align='right'>\n",
    "        출처: 개인정보보호 종합포털, https://www.privacy.go.kr/\n",
    "    </th>\n",
    "    </tr>\n",
    "<tr>\n",
    "    <th>피해 사례별 개인 정보 보호 실천 방안</th>\n",
    "</tr>\n",
    "</table>"
   ]
  },
  {
   "cell_type": "markdown",
   "id": "1652513e-817d-4676-82e0-8cddd53cb39f",
   "metadata": {},
   "source": [
    "인터넷의 발달로 개인 정보의 수집, 처리 등이 쉬워진 반면 개인 정보의 노출 기회는 많아짐에 따라 개인 정보의 유출 위험이 높아지고 있다. \n",
    "- 스팸 문자, 보이스 피싱 , 파밍 , 스미싱 등이 모두 개인 정보 유출 가능\n",
    "- 법에서 정한 경우에만 개인 정보를 수집해야 한다는 '개인정보보호법' 제정\n",
    "- 소중한 개인 정보가 유출되지 않도록 올바른 의식을 갖는 것이 중요\n"
   ]
  },
  {
   "cell_type": "markdown",
   "id": "031da39b-ade7-41e3-951e-4b9a940b184f",
   "metadata": {},
   "source": [
    "<table>\n",
    "<tr>\n",
    "    <th><img src=\"https://tmn-bucket-materials-all.s3.ap-northeast-2.amazonaws.com/image/textbook/ybm_01_02_05.png\" width=\"800\"></th>\n",
    "    </tr>\n",
    "        <tr>\n",
    "        <th align='right'>\n",
    "        출처: 개인정보보호 종합포털, https://www.privacy.go.kr/\n",
    "            <br>한국인터넷진흥원, http://www.kisa.or.kr/\n",
    "    </th>\n",
    "    </tr>\n",
    "<tr>\n",
    "    <th>개인 정보 관리·보호 수칙</th>\n",
    "</tr>\n",
    "</table>"
   ]
  },
  {
   "cell_type": "markdown",
   "id": "f8149208-0c8e-49ab-b355-074c9d2ab4db",
   "metadata": {},
   "source": [
    "<div style=\"padding: 15px; border: 5px solid transparent; border-color: transparent; margin-bottom: 20px; border-radius: 4px; color: #8a6d3b;  border-color: #faebcc; font-weight: bold;\">\n",
    "    <div style=\"font-weight: bold; font-size: 20px\">✏️ [문제1]</div>\n",
    "    <br>\n",
    "두 가지 이상의 정보를 묶어서 개인을 알아볼 수 있는 개인 정보를 만들어 보자. <br>\n",
    "</div>"
   ]
  },
  {
   "cell_type": "markdown",
   "id": "dc91aef6-60af-4730-bec7-d0b49cf76099",
   "metadata": {},
   "source": [
    "    \n",
    "<table width=500>\n",
    "<tr>\n",
    "    <th width=150>번호</th>\n",
    "    <th>종류</th>\n",
    "    </tr>\n",
    "    <tr>\n",
    "        <th>1</th>\n",
    "        <th>이메일, 휴대 전화 번호</th>\n",
    "    </tr>\n",
    "    <tr>\n",
    "    <th align=left>👉 </th>\n",
    "    <th align=left>👉 </th>\n",
    "    </tr>\n",
    "        <tr>\n",
    "    <th align=left>👉 </th>\n",
    "    <th align=left>👉 </th>\n",
    "    </tr>\n",
    "        <tr>\n",
    "    <th align=left>👉 </th>\n",
    "    <th align=left>👉 </th>\n",
    "    </tr>\n",
    "</table>\n",
    "\n",
    "\n"
   ]
  },
  {
   "cell_type": "markdown",
   "id": "6028bce3-df40-445b-b6ef-022ce44985c5",
   "metadata": {},
   "source": [
    "<div style=\"padding: 15px; border: 5px solid transparent; border-color: transparent; margin-bottom: 20px; border-radius: 4px; color: #8a6d3b;  border-color: #faebcc; font-weight: bold;\">\n",
    "    <div style=\"font-weight: bold; font-size: 20px\">✏️ [문제2]</div>\n",
    "    <br>\n",
    "인터넷 검색 사이트에 자신의 전화번호, 아이디, 주민 등록 번호를 입력하고 검색되는지 확인해 보자. 만약 자신의 개인 정보가 유출되었다면 어떻게 대응해야 하는지 발표해 보자. <br>\n",
    "</div>"
   ]
  },
  {
   "cell_type": "code",
   "execution_count": null,
   "id": "258bf5ec-f156-43bf-8036-c6cc7c7e67bd",
   "metadata": {},
   "outputs": [],
   "source": [
    " 👉 \n",
    " 👉 "
   ]
  },
  {
   "cell_type": "markdown",
   "id": "bcb73217-7a5c-4b05-8a12-2cd1db08af5a",
   "metadata": {},
   "source": [
    "<div style=\"padding: 15px; border: 5px solid transparent; border-color: transparent; margin-bottom: 20px; border-radius: 4px; color: #3c763d; border-color: #d6e9c6; font-weight: bold;\">\n",
    "<h2 style='font-weight: bold'>2. 저작권</h2>\n",
    "</div>"
   ]
  },
  {
   "cell_type": "markdown",
   "id": "6d85b0e8-9e88-45ce-b391-eef4e2d96545",
   "metadata": {},
   "source": [
    "저작권(copyright)은 시, 소설, 음악, 미술, 연극, 건축, 컴퓨터 프로그램, 사진, 영화, 도형 등과 같은 저작물에 저작자가 가지는 권리를 말한다.\n",
    "\n",
    "- 저작물을 이용할 때 저작자에게 허락, 저작권료 지불\n",
    "- 저작물 보호를 위해 디지털 워터마크 삽입, 디지털 저작권 관리(DRM), 불법 복제 방지 시스템 등 이용\n"
   ]
  },
  {
   "cell_type": "markdown",
   "id": "4995e5a1-ed03-47f7-94f2-d0b7d0d2ed85",
   "metadata": {},
   "source": [
    "지나친 저작권 규제로 인한 정보 공유의 어려움을 해결하기 위한 방법도 등장하였다. \n",
    "- 인터넷상에서 자신이 만든 저작물의 이용을 허락하고자 할 때는 ‘저작물 이용\n",
    "허락 표시(CCL: Creative Commons License)’ 이용"
   ]
  },
  {
   "cell_type": "markdown",
   "id": "e59c28b6-4f91-44a7-a8e7-46266fe78cde",
   "metadata": {},
   "source": [
    "<table>\n",
    "<tr>\n",
    "    <th><img src=\"https://tmn-bucket-materials-all.s3.ap-northeast-2.amazonaws.com/image/textbook/ybm_01_02_06.png\" width=\"700\"></th>\n",
    "    </tr>\n",
    "<tr>\n",
    "    <th>저작물 이용 허락 표시(CCL)</th>\n",
    "</tr>\n",
    "</table>"
   ]
  },
  {
   "cell_type": "markdown",
   "id": "255e5af2-0d02-4d28-a4e2-d0681e3997e5",
   "metadata": {},
   "source": [
    "<div style=\"padding: 15px; border: 5px solid transparent; border-color: transparent; margin-bottom: 20px; border-radius: 4px; color: #8a6d3b;  border-color: #faebcc; font-weight: bold;\">\n",
    "    <div style=\"font-weight: bold; font-size: 20px\">✏️ [문제3]</div>\n",
    "    <br>\n",
    "다음 저작물 이용 허락 표시(CCL)의 이용 범위에 대해 찾아보고, <예시>와 같이 모둠별로 (1), (2), (3)을 설명해 보자.<br>\n",
    "</div>"
   ]
  },
  {
   "cell_type": "markdown",
   "id": "ebe5c997-2444-46da-93cf-6be19dec667e",
   "metadata": {},
   "source": [
    "    \n",
    "<table width=600>\n",
    "<tr>\n",
    "    <th width=50>예시</th>\n",
    "    <th width=150><img src='https://tmn-bucket-materials-all.s3.ap-northeast-2.amazonaws.com/image/textbook/ybm_01_02_07.png'></th>\n",
    "    <th>저작자를 표시하고, 영리 목적으로 이용할 수 없다.</th>\n",
    "    </tr>\n",
    "    <tr>\n",
    "        <th>(1)</th>\n",
    "    <th><img src='https://tmn-bucket-materials-all.s3.ap-northeast-2.amazonaws.com/image/textbook/ybm_01_02_08.png''></th>\n",
    "    <th align=left>👉 </th>\n",
    "    </tr>\n",
    "        <tr>\n",
    "            <th>(2)</th>\n",
    "    <th><img src='https://tmn-bucket-materials-all.s3.ap-northeast-2.amazonaws.com/image/textbook/ybm_01_02_09.png''></th>\n",
    "    <th align=left>👉 </th>\n",
    "    </tr>\n",
    "        <tr>\n",
    "            <th>(3)</th>\n",
    "    <th><img src='https://tmn-bucket-materials-all.s3.ap-northeast-2.amazonaws.com/image/textbook/ybm_01_02_10.png''></th>\n",
    "    <th align=left>👉 </th>\n",
    "    </tr>\n",
    "</table>\n",
    "\n",
    "\n"
   ]
  },
  {
   "cell_type": "markdown",
   "id": "b31811f4-f5f5-4456-b6b3-271026dfcb8c",
   "metadata": {},
   "source": [
    "<div style=\"padding: 15px; border: 5px solid transparent; border-color: transparent; margin-bottom: 20px; border-radius: 4px; color: #8a6d3b;  border-color: #faebcc; font-weight: bold;\">\n",
    "    <div style=\"font-weight: bold; font-size: 20px\">✏️ [문제4]</div>\n",
    "    <br>\n",
    "저작권과 관련된 질문에 O, X로 답해 보자. <br>\n",
    "</div>"
   ]
  },
  {
   "cell_type": "markdown",
   "id": "03d3a5cb-a52c-446a-8fd7-9d556fc9e9fc",
   "metadata": {},
   "source": [
    "    \n",
    "<table width=500>\n",
    "  <tr>\n",
    "    <th width=80% align=left>(1) 폰트에도 저작권이 있을까? </th>\n",
    "    <th>(O, X)</th>\n",
    "  </tr>\n",
    "  <tr>\n",
    "    <th align=left>(2) 인기 영화 대사에도 저작권이 있을까? </th>\n",
    "    <th>(O, X)</th>\n",
    "  </tr>\n",
    "  <tr>\n",
    "    <th align=left>(3) 생일 축하 노래에도 저작권이 있을까? </th>\n",
    "    <th>(O, X)</th>\n",
    "  </tr>\n",
    "  <tr>\n",
    "    <th align=left>(4) 유명 캐릭터의 무분별한 상품화, 저작권 문제가 발생할까?</th>\n",
    "    <th>(O, X)</th>\n",
    "  </tr>\n",
    "  <tr>\n",
    "    <th align=left>(5) 수업용 교재로 사용한 해외 언론 기사, 저작권 문제가 발생할까?</th>\n",
    "    <th>(O, X)</th>\n",
    "  </tr>\n",
    "</table>\n",
    "\n",
    "\n"
   ]
  },
  {
   "cell_type": "markdown",
   "id": "fee536d8-3dcb-48ec-9d2e-31cecf08051e",
   "metadata": {},
   "source": [
    "<div style=\"padding: 15px; border: 5px solid transparent; border-color: transparent; margin-bottom: 20px; border-radius: 4px; color: #3c763d; border-color: #d6e9c6; font-weight: bold;\">\n",
    "<h2 style='font-weight: bold'>3. 사이버 윤리</h2>\n",
    "</div>"
   ]
  },
  {
   "cell_type": "markdown",
   "id": "eee1bcd4-0d4e-4e7a-a04b-3aa4a4483dd6",
   "metadata": {},
   "source": [
    "우리가 일상생활을 하면서 지켜야 하는 규칙이나 예절이 있는 것처럼 사이버 공간에서도 사람들 사이에 지켜야 하는 규칙이나 예절이 있으며 이를 **사이버 윤리** 또는 **네티켓**이라고 부른다. \n",
    "\n",
    "- 사이버 폭력 : 인터넷이나 휴대 전화 등 정보 통신 기기를 이용하여 다른 사람에게 피해를 입히는 모든 행위\n",
    "- 사이버 스토킹 : 상대방이 원하지 않는 문자, 사진, 동영상 등을 계속 보내어 상대방에게 공포감과 불안감을 주는 행위\n",
    "- 사이버 명예 훼손 : 사이버 공간에서 타인을 나쁘게 말하거나 헐뜯는 행위"
   ]
  },
  {
   "cell_type": "markdown",
   "id": "46050402-9385-4e71-81df-4727f223a760",
   "metadata": {},
   "source": [
    "    \n",
    "<table width=500>\n",
    "  <tr>\n",
    "      <th align=center><font color='purple'><b>사이버 폭력, 이렇게 예방합시다</b></font></th>\n",
    "  </tr>\n",
    "    <tr><th align=left>1. 누구라도 사이버 폭력에 노출될 수 있습니다.</th></tr>\n",
    "  <tr><th align=left>2. 사이버상에서는 정직하고 당당하게 활동합니다.</th></tr>\n",
    "  <tr><th align=left>3. 나와 다른 사람의 개인 정보를 소중히 생각합니다.</th></tr>\n",
    "  <tr><th align=left>4. 올바른 사이버 언어 습관과 사이버 예절을 익힙니다.</th></tr>\n",
    "  <tr><th align=left>5. 타인의 정보에 대해서는 반드시 미리 동의를 구합니다.</th></tr>\n",
    "  <tr><th align=left>6. 확신할 수 없는 정보나 음란물 등은 함부로 게시·유포하지 않습니다.</th></tr>\n",
    "  <tr><th align=left>7. 모르는 상대의 쪽지 또는 대화 신청은 답변하지 않습니다.</th></tr>\n",
    "  <tr><th align=left>8. 낯선 이와의 오프라인 만남은 피해야 합니다.</th></tr>\n",
    "  <tr><th align=left>9. 사이버 폭력을 목격하면 방관하지 않고 도와줍니다.</th></tr>\n",
    "    <tr><th align=right>출처: 에듀넷·티-클리어, http://www.edunet.net/</th></tr>\n",
    "</table>\n",
    "\n",
    "\n"
   ]
  },
  {
   "cell_type": "markdown",
   "id": "792c72bf-b75d-4992-908f-cbb61acb3d62",
   "metadata": {},
   "source": [
    "사이버 중독은 인터넷, 게임, 스마트폰 등의 매체에 지나치게 몰두하여 일상생활에 부정적인 영향을 끼치는 것을 말한다.\n"
   ]
  },
  {
   "cell_type": "markdown",
   "id": "7654e77e-dd81-4089-b291-1e52745d8613",
   "metadata": {},
   "source": [
    "    \n",
    "<table width=500>\n",
    "  <tr>\n",
    "      <th align=center><font color='purple'><b>스마트폰 과의존 예방 가이드라인</b></font></th>\n",
    "  </tr>\n",
    "    <tr><th align=left>• 스마트폰을 사용하지 않는 시간·장소(잠자기 2시간 전, 수업·식사 시간, 공공장소, 이동 중 등)를 정하고, 사용하지 않을 때는 보이지 않는 곳에 보관합니다.</th></tr>\n",
    "  <tr><th align=left>• 스마트폰으로 안전하고 믿을 수 있는 콘텐츠만 이용합니다.</th></tr>\n",
    "  <tr><th align=left>• 최근 한 달 동안 사용하지 않은 앱은 삭제하고, 스마트폰 이용 절제 도우미 앱을 활용합니다.</th></tr>\n",
    "  <tr><th align=left>• 온라인 공간에서 디지털 기술을 활용해 문제를 해결합니다.</th></tr>\n",
    "  <tr><th align=left>• 스마트폰을 대신할 수 있는 오프라인 활동(독서, 운동, 취미·동아리·봉사 등) 시간을 늘려 갑니다.</th></tr>\n",
    "  <tr><th align=left>• 스마트폰을 내려놓고 가까운 사람들과 소통합니다.</th></tr>\n",
    "  <tr><th align=left>• 공공장소에서 ‘스마트폰 예절’을 지킵니다.</th></tr>\n",
    "    <tr><th align=right>출처: 스마트쉼센터, https://www.iapc.or.kr/</th></tr>\n",
    "</table>\n",
    "\n",
    "\n"
   ]
  },
  {
   "cell_type": "markdown",
   "id": "a7433f84-2f79-45e1-b5f0-ef60f497b0c2",
   "metadata": {},
   "source": [
    "<div style=\"padding: 15px; border: 5px solid transparent; border-color: transparent; margin-bottom: 20px; border-radius: 4px; color: #8a6d3b;  border-color: #faebcc; font-weight: bold;\">\n",
    "    <div style=\"font-weight: bold; font-size: 20px\">✏️ [문제5]</div>\n",
    "    <br>\n",
    "모둠별로 제시된 사이버 폭력 상황 중 두 가지를 선정하여 올바른 대처 방법을 토의한 후 발표해 보자. <br>\n",
    "</div>"
   ]
  },
  {
   "cell_type": "markdown",
   "id": "4742e856-56a8-4d18-b45e-15e37b3e202b",
   "metadata": {},
   "source": [
    "    \n",
    "<table width=500>\n",
    "    <tr><th align=left>• 온라인상에서 무리한 요구를 받았을 때 어떻게 거절해야 할까?</th></tr>\n",
    "  <tr><th align=left>• 온라인상에서 욕설을 하는 친구에게 나도 똑같이 말해 주고 싶을 때 어떻게 해야 할까?</th></tr>\n",
    "  <tr><th align=left>• 사이버 폭력으로 피해 입은 사실을 어떻게 증명할 수 있을까?</th></tr>\n",
    "  <tr><th align=left>• 주위에서 사이버 폭력 피해를 입은 친구를 목격했는데, 내가 신고해도 될까?</th></tr>\n",
    "</table>\n",
    "\n",
    "\n"
   ]
  },
  {
   "cell_type": "code",
   "execution_count": null,
   "id": "cd7b36b9-9e9f-4ae5-8efd-e75495817e48",
   "metadata": {},
   "outputs": [],
   "source": [
    " 👉 \n",
    " 👉 "
   ]
  }
 ],
 "metadata": {
  "kernelspec": {
   "display_name": "Python 3 (ipykernel)",
   "language": "python",
   "name": "python3"
  },
  "language_info": {
   "codemirror_mode": {
    "name": "ipython",
    "version": 3
   },
   "file_extension": ".py",
   "mimetype": "text/x-python",
   "name": "python",
   "nbconvert_exporter": "python",
   "pygments_lexer": "ipython3",
   "version": "3.10.13"
  }
 },
 "nbformat": 4,
 "nbformat_minor": 5
}
