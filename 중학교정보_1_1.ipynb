{
 "cells": [
  {
   "cell_type": "markdown",
   "id": "4cd46724-6014-43a2-ab51-dca66618fe86",
   "metadata": {},
   "source": [
    "<div style=\"padding: 15px; border: 5px solid transparent; border-color: transparent; margin-bottom: 20px; border-radius: 4px; color: #3c763d; background-color: #dff0d8; border-color: #d6e9c6; font-weight: bold;\">\n",
    "    <br><br>\n",
    "    <div style=\"font-weight: bold; font-size: 40px\">정보 문화</div>\n",
    "    <div style=\"font-weight: bold; font-size: 20px\">[01] 정보 사회</div>\n",
    "    <hr style=\"width:80%;text-align:left;margin-left:0;border:0.5px solid green\">\n",
    "    <br>\n",
    "    &#x2022; 정보 기술의 발달과 소프트웨어가 개인과 사회에 미친 영향과 가치를 알 수 있다. <br>\n",
    "    &#x2022; 미래 사회에서의 직업의 변화를 알 수 있다.<br>\n",
    "    &#x2022; 자신의 적성에 맞는 다양한 지로를 탐색할 수 있다. <br>\n",
    "</div>"
   ]
  },
  {
   "cell_type": "markdown",
   "id": "807d180e-b63b-46fa-8700-9316dc98eb55",
   "metadata": {},
   "source": [
    "<div style=\"padding: 15px; border: 5px solid transparent; border-color: transparent; margin-bottom: 20px; border-radius: 4px; color: #3c763d; border-color: #d6e9c6; font-weight: bold;\">\n",
    "<h2 style='font-weight: bold'>1. 정보 기술과 정보 사회</h2>\n",
    "</div>"
   ]
  },
  {
   "cell_type": "markdown",
   "id": "6c9c904c-b845-4bd6-8f52-401220234cb7",
   "metadata": {},
   "source": [
    "가치 있는 정보의 생산이 중요해짐에 따라 정보와 관련된 다양한 기술이 사회 변화를 주도하고 있다. \n",
    "\n",
    "- **정보 기술(IT, Information Techology)** : 컴퓨터과학과 통신 기술을 이용하여 정보의 습득, 처리, 저장, 전달 등을 다루는 것\n",
    "- 정보 기술은 가정, 교육, 산업, 교통, 예술, 의료 등 다양한 분야와 융합되어 사회의 많은 부분을 바꾸었다. \n",
    "- 미래 사회에서도 정보 통신 기술을 기반으로 사회 모든 분야와 융합되어 우리의 삶과 사회를 더 빠르게 변화시킬 것\n"
   ]
  },
  {
   "cell_type": "markdown",
   "id": "b28d495b-c795-4bdb-97fa-8e06cd04fa64",
   "metadata": {},
   "source": [
    "<table>\n",
    "<tr>\n",
    "    <th><img src=\"https://tmn-bucket-materials-all.s3.ap-northeast-2.amazonaws.com/image/ai/AI-01-01.png\" width=\"300\"></th>\n",
    " <th><img src=\"https://tmn-bucket-materials-all.s3.ap-northeast-2.amazonaws.com/image/ai/AI-01-01.png\" width=\"300\"></th>\n",
    "    </tr>\n",
    "<tr>\n",
    "    <th>스마트홈</th>\n",
    "    <th>스마트 교육</th>\n",
    "</tr>\n",
    "    <tr>\n",
    "    <th><img src=\"https://tmn-bucket-materials-all.s3.ap-northeast-2.amazonaws.com/image/ai/AI-01-01.png\" width=\"300\"></th>\n",
    " <th><img src=\"https://tmn-bucket-materials-all.s3.ap-northeast-2.amazonaws.com/image/ai/AI-01-01.png\" width=\"300\"></th>\n",
    "    </tr>\n",
    "<tr>\n",
    "    <th>자율 주행 자동차</th>\n",
    "    <th>수술 로봇</th>\n",
    "</tr>\n",
    "<tr>\n",
    "    <th colspan=2>정보 기술을 활용한 생활의 변화</th>\n",
    "</tr>\n",
    "</table>"
   ]
  },
  {
   "cell_type": "markdown",
   "id": "cd7cecf8-3797-49c8-89f6-49d21cfb2e7c",
   "metadata": {},
   "source": [
    "오늘날의 정보 기술은 빠른 정보 전달, 쌍방향 소통이 특징이다. \n",
    "- **정보 사회** : 정보가 중심 자원이 되어 정보의 가공과 처리가 사회와 경제의 중심이 되는 사회\n",
    "- 사람들은 정보 기술을 활용하여 많은 정보를 생산, 소비하고 새로운 문화를 형성한다.\n",
    "- 하드웨어, 초고속 네트워크, 소프트웨어의 발전으로 정보 사회가 가능해졌다. "
   ]
  },
  {
   "cell_type": "markdown",
   "id": "8c236a68-8a26-4758-bc1c-e892cd098f36",
   "metadata": {},
   "source": [
    "<table>\n",
    "<tr>\n",
    "    <th><img src=\"https://tmn-bucket-materials-all.s3.ap-northeast-2.amazonaws.com/image/ai/AI-01-01.png\" width=\"500\"></th>\n",
    "    </tr>\n",
    "<tr>\n",
    "    <th>정보 사회의 특성</th>\n",
    "</tr>\n",
    "</table>"
   ]
  },
  {
   "cell_type": "markdown",
   "id": "4db9f052-e2fb-4fd8-ad62-2ef70a345350",
   "metadata": {},
   "source": [
    "소프트웨어는 일상생활과 산업에서 중요한 역할을 하고 있다. \n",
    "- 자율 주행 자동차, 로봇 청소기, 대중교통 도착 알림 시스템 등\n",
    "- 의료 기기 접목으로 전강 상태 파악, 로봇 수술\n",
    "- 게임, 영화, 온라인 쇼핑, 사이버 교육, 핀테크 등 기존 산업에 영향\n",
    "- 3D 프린터, 가상 현실, 사물 인터넷, 빅 데이터, 인공지능 로봇 등 4차 산업 혁명을 주도할 것\n",
    "\n",
    "\n"
   ]
  },
  {
   "cell_type": "markdown",
   "id": "46f23b81-3759-4b4e-b666-184e3c5f7fa8",
   "metadata": {},
   "source": [
    "<table>\n",
    "<tr>\n",
    "    <th><img src=\"https://tmn-bucket-materials-all.s3.ap-northeast-2.amazonaws.com/image/ai/AI-01-01.png\" width=\"300\"></th>\n",
    " <th><img src=\"https://tmn-bucket-materials-all.s3.ap-northeast-2.amazonaws.com/image/ai/AI-01-01.png\" width=\"300\"></th>\n",
    "    <th><img src=\"https://tmn-bucket-materials-all.s3.ap-northeast-2.amazonaws.com/image/ai/AI-01-01.png\" width=\"300\"></th>\n",
    "    </tr>\n",
    "<tr>\n",
    "    <th>핀테크(fintech)</th>\n",
    "    <th>3D 프린터(3D Printer)</th>\n",
    "     <th>가상 현실(VR)</th>\n",
    "</tr>\n",
    "    <tr>\n",
    "    <th><img src=\"https://tmn-bucket-materials-all.s3.ap-northeast-2.amazonaws.com/image/ai/AI-01-01.png\" width=\"300\"></th>\n",
    " <th><img src=\"https://tmn-bucket-materials-all.s3.ap-northeast-2.amazonaws.com/image/ai/AI-01-01.png\" width=\"300\"></th>\n",
    "        <th><img src=\"https://tmn-bucket-materials-all.s3.ap-northeast-2.amazonaws.com/image/ai/AI-01-01.png\" width=\"300\"></th>\n",
    "    </tr>\n",
    "<tr>\n",
    "    <th>사물 인터넷(IoT)</th>\n",
    "    <th>빅 데이터(Big Data)</th>\n",
    "     <th>인공 지능 로봇(AI Robot)</th>\n",
    "</tr>\n",
    "<tr>\n",
    "    <th colspan=3>소프트웨어의 활용</th>\n",
    "</tr>\n",
    "</table>"
   ]
  },
  {
   "cell_type": "markdown",
   "id": "89af247f-40e3-4217-a1b7-be5db5599ab6",
   "metadata": {},
   "source": [
    "<div style=\"padding: 15px; border: 5px solid transparent; border-color: transparent; margin-bottom: 20px; border-radius: 4px; color: #8a6d3b;  border-color: #faebcc; font-weight: bold;\">\n",
    "    <div style=\"font-weight: bold; font-size: 20px\">✏️ [문제1]</div>\n",
    "    <br>\n",
    "다음은 미래를 그린 영화 장면이다. <br>\n",
    "    &nbsp;&nbsp;(1) 현실 속에서 실현된 기술을 찾아보자. <br>\n",
    "    &nbsp;&nbsp;(2) 미래에 실현되기를 바라는 기술에는 어떤 것이 있는지 다른 영화, 드라마, 책 등에서 찾아 발표해보자.\n",
    "</div>"
   ]
  },
  {
   "cell_type": "markdown",
   "id": "54ffd600-7339-4056-8103-6da3085cfcf6",
   "metadata": {},
   "source": [
    "<table>\n",
    "<tr>\n",
    "    <th><img src=\"https://tmn-bucket-materials-all.s3.ap-northeast-2.amazonaws.com/image/ai/AI-01-01.png\" width=\"300\"></th>\n",
    " <th><img src=\"https://tmn-bucket-materials-all.s3.ap-northeast-2.amazonaws.com/image/ai/AI-01-01.png\" width=\"300\"></th>\n",
    "    </tr>\n",
    "<tr>\n",
    "    <th><마이너리티 리포트> 몸짓 인식</th>\n",
    "    <th><맨인블랙> 기억 제거기</th>\n",
    "</tr>\n",
    "    <tr>\n",
    "    <th><img src=\"https://tmn-bucket-materials-all.s3.ap-northeast-2.amazonaws.com/image/ai/AI-01-01.png\" width=\"300\"></th>\n",
    " <th><img src=\"https://tmn-bucket-materials-all.s3.ap-northeast-2.amazonaws.com/image/ai/AI-01-01.png\" width=\"300\"></th>\n",
    "    </tr>\n",
    "<tr>\n",
    "    <th><설국열차> 실시간 자동 통역기</th>\n",
    "    <th><아이언맨> 웨어러블 수트</th>\n",
    "</tr>\n",
    "</table>"
   ]
  },
  {
   "cell_type": "code",
   "execution_count": null,
   "id": "f15daff2-fa4f-4b69-8413-ba2fed47b7e8",
   "metadata": {},
   "outputs": [],
   "source": [
    " 👉 \n",
    " 👉 "
   ]
  },
  {
   "cell_type": "markdown",
   "id": "06ac96cb-67cc-4999-a5b0-007a8fbe19b3",
   "metadata": {},
   "source": [
    "<div style=\"padding: 15px; border: 5px solid transparent; border-color: transparent; margin-bottom: 20px; border-radius: 4px; color: #8a6d3b;  border-color: #faebcc; font-weight: bold;\">\n",
    "    <div style=\"font-weight: bold; font-size: 20px\">✏️ [문제2]</div>\n",
    "    <br>\n",
    "소프트웨어가 개인과 사회에 끼친 변화를 조사해 보자. 그리고 소프트웨어의 역할과 중요성에 대해 모\n",
    "둠별로 토의한 후 발표해 보자.<br><br>\n",
    "\n",
    "<table>\n",
    "<tr>\n",
    "    <th><img src=\"https://tmn-bucket-materials-all.s3.ap-northeast-2.amazonaws.com/image/ai/AI-01-02.png\" width=\"500\"></th>\n",
    "    </tr>\n",
    "<tr>\n",
    "    <th>예시</th>\n",
    "</tr>\n",
    "</table>\n",
    "\n",
    "</div>"
   ]
  },
  {
   "cell_type": "code",
   "execution_count": null,
   "id": "452acc21-77e0-4bdb-97d9-35056a6e1342",
   "metadata": {},
   "outputs": [],
   "source": [
    " 👉 \n",
    " 👉 "
   ]
  },
  {
   "cell_type": "markdown",
   "id": "bcb73217-7a5c-4b05-8a12-2cd1db08af5a",
   "metadata": {},
   "source": [
    "<div style=\"padding: 15px; border: 5px solid transparent; border-color: transparent; margin-bottom: 20px; border-radius: 4px; color: #3c763d; border-color: #d6e9c6; font-weight: bold;\">\n",
    "<h2 style='font-weight: bold'>2. 미래 사회와 직업의 변화</h2>\n",
    "</div>"
   ]
  },
  {
   "cell_type": "markdown",
   "id": "3722207d-5819-466f-a741-da53ffe4771e",
   "metadata": {},
   "source": [
    "소프트웨어와 정보 기술의 융합은 직업 세계에도 커다란 변화를 가져왔다.\n",
    "- 3D 프린터로 집을 짓는 건축 설계 프로그램\n",
    "- 수집한 데이터를 바탕으로 스스로 기사를 작성하는 로봇 기자의 출현\n",
    "\n",
    "최첨단 정보 기술로 직업에 변화가 예상된다. \n",
    "- 스포츠 심판, 운송업자, 건설 노동자, 요리사, 회계사, 금융 매니저, 약사, 변호사 등 사라질 위기\n",
    "- 인공지능, 로봇, 빅 데이터, 나노 기술, 생명 공학 등 새롭게 등장\n",
    "- 빅 데이터 분석가, 소프트웨어, 하드웨어 개발자, 정보 보안 전문가, 사물 인터넷 전문가, 로봇 과학자, 3D 프린터 관련 종사자 등은 수요가 늘어날 전망"
   ]
  },
  {
   "cell_type": "markdown",
   "id": "77a65828-b007-454d-b6cb-f691ebdf102f",
   "metadata": {},
   "source": [
    "<table>\n",
    "<tr>\n",
    "    <th><img src=\"https://tmn-bucket-materials-all.s3.ap-northeast-2.amazonaws.com/image/ai/AI-01-01.png\" width=\"300\"></th>\n",
    "    <th><img src=\"https://tmn-bucket-materials-all.s3.ap-northeast-2.amazonaws.com/image/ai/AI-01-01.png\" width=\"300\"></th>\n",
    "    <th><img src=\"https://tmn-bucket-materials-all.s3.ap-northeast-2.amazonaws.com/image/ai/AI-01-01.png\" width=\"300\"></th>\n",
    "    </tr>\n",
    "<tr>\n",
    "    <th>빅 데이터 분석가</th>\n",
    "     <th>로봇 약사</th>\n",
    "     <th>정보 보안 전문가</th>\n",
    "</tr>\n",
    "    <tr>\n",
    "    <th colspan=3>미래 사회의 직업</th>\n",
    "</tr>\n",
    "</table>"
   ]
  },
  {
   "cell_type": "markdown",
   "id": "7ee6b5bb-eeec-4450-8ec2-ab3886e57e20",
   "metadata": {},
   "source": [
    "미래 사회에서는 경제.사회.기술이 급격히 변함에 따라 직업 세계도 상상을 초월할 정도로 변화할 것이다. \n",
    "- 많은 직업이 소프트웨어를 활용한 로봇과 인공지능에 의해 대체되어 자동화 가능성이 많다. \n",
    "- 소프트웨어 개발, 활용 지식을 익혀 창의적으로 해석하고 융합하는 능력을 키워야 한다. \n",
    "- 자신의 적성에 맞는 다양한 진로를 탐색한 후 흥미가 있는 분야를 중심으로 일어나는 변화에 대해 관심을 갖는 태도가 필요하다. \n"
   ]
  },
  {
   "cell_type": "markdown",
   "id": "ecb68806-854f-4611-bec8-e775358008a6",
   "metadata": {},
   "source": [
    "<table>\n",
    "<tr>\n",
    "    <th><img src=\"https://tmn-bucket-materials-all.s3.ap-northeast-2.amazonaws.com/image/ai/AI-01-01.png\" width=\"500\">\n",
    "    </th>\n",
    "    </tr>\n",
    "    <tr>\n",
    "        <th align='right'>\n",
    "        출처: 한국고용정보원, https://www.keis.or.kr/\n",
    "    </th>\n",
    "    </tr>\n",
    "<tr>\n",
    "    <th>자동화 대체 확률이 높은 직업과 낮은 직업</th>\n",
    "</tr>\n",
    "</table>"
   ]
  },
  {
   "cell_type": "markdown",
   "id": "ed917bbd-5286-4130-b7e4-675e8161142d",
   "metadata": {},
   "source": [
    "<div style=\"padding: 15px; border: 5px solid transparent; border-color: transparent; margin-bottom: 20px; border-radius: 4px; color: #8a6d3b;  border-color: #faebcc; font-weight: bold;\">\n",
    "    <div style=\"font-weight: bold; font-size: 20px\">✏️ [문제3]</div>\n",
    "    <br>\n",
    "미래 사회의 직업을 조사한 후 필요한 능력은 무엇인지 모둠별로 토론해 보자. <br>\n",
    "    \n",
    "</div>\n"
   ]
  },
  {
   "cell_type": "markdown",
   "id": "80f04e1d-67de-4e79-8e37-09665f3bb53b",
   "metadata": {},
   "source": [
    "    \n",
    "<table width=800>\n",
    "<tr>\n",
    "    <th width=150>직업</th>\n",
    "    <th>하는 일</th>\n",
    "    <th>필요한 능력</th>\n",
    "    </tr>\n",
    "    <tr>\n",
    "        <th>빅 데이터 분석가</th>\n",
    "        <th>수집된 방대한 양의 자료를 분석하고 문제를\n",
    "해결하며 미래를 예측하는 직업이다.</th>\n",
    "        <th>인내심, 실험 정신, 끊임없는 학습\n",
    "능력, 커뮤니케이션 능력, 변화 관\n",
    "리 능력 등 </th>\n",
    "    </tr>\n",
    "    <tr>\n",
    "    <th align=left>👉 </th>\n",
    "    <th align=left>👉 </th>\n",
    "    <th align=left>👉 </th>\n",
    "    </tr>\n",
    "        <tr>\n",
    "    <th align=left>👉 </th>\n",
    "    <th align=left>👉 </th>\n",
    "    <th align=left>👉 </th>\n",
    "    </tr>\n",
    "</table>\n",
    "\n",
    "\n"
   ]
  }
 ],
 "metadata": {
  "kernelspec": {
   "display_name": "Python 3 (ipykernel)",
   "language": "python",
   "name": "python3"
  },
  "language_info": {
   "codemirror_mode": {
    "name": "ipython",
    "version": 3
   },
   "file_extension": ".py",
   "mimetype": "text/x-python",
   "name": "python",
   "nbconvert_exporter": "python",
   "pygments_lexer": "ipython3",
   "version": "3.10.13"
  }
 },
 "nbformat": 4,
 "nbformat_minor": 5
}
