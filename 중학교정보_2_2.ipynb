{
 "cells": [
  {
   "cell_type": "markdown",
   "id": "4cd46724-6014-43a2-ab51-dca66618fe86",
   "metadata": {},
   "source": [
    "<div style=\"padding: 15px; border: 5px solid transparent; border-color: transparent; margin-bottom: 20px; border-radius: 4px; color: #3c763d; background-color: #dff0d8; border-color: #d6e9c6; font-weight: bold;\">\n",
    "    <br><br>\n",
    "    <div style=\"font-weight: bold; font-size: 40px\">자료와 정보</div>\n",
    "    <div style=\"font-weight: bold; font-size: 20px\">[02] 자료와 정보의 분석</div>\n",
    "    <hr style=\"width:80%;text-align:left;margin-left:0;border:0.5px solid green\">\n",
    "    <br>\n",
    "    &#x2022; 인터넷, 응용 소프트웨어를 활용하여 문제 해결을 위한 자료를 수집하고 관리할 수 있다. <br>\n",
    "    &#x2022; 실생활의 정보를 표, 다이어그램 등 다양한 형태로 구조화하여 표현할 수 있다.<br>\n",
    "</div>"
   ]
  },
  {
   "cell_type": "markdown",
   "id": "807d180e-b63b-46fa-8700-9316dc98eb55",
   "metadata": {},
   "source": [
    "<div style=\"padding: 15px; border: 5px solid transparent; border-color: transparent; margin-bottom: 20px; border-radius: 4px; color: #3c763d; border-color: #d6e9c6; font-weight: bold;\">\n",
    "<h2 style='font-weight: bold'>1. 자료의 수집과 관리</h2>\n",
    "</div>"
   ]
  },
  {
   "cell_type": "markdown",
   "id": "b5193ae8-9f0f-4272-9882-b5b9a8fe229a",
   "metadata": {},
   "source": [
    "문제를 해결하기 전에 먼저 해야 할 일은 문제를 정확하게 이해하고 인식하는 것이다.\n",
    "\n",
    "문제를 이해한 후에는 필요한 자료가 무엇인지 확인하고, 어떻게 자료를 수집하고 관리, 공유할 것인지 적절한 방법을 선택해야 한다. "
   ]
  },
  {
   "cell_type": "markdown",
   "id": "3c28c9ef-4255-4554-ac0a-237cd101551a",
   "metadata": {},
   "source": [
    "자료 수집은 자료의 내용과 형태를 구체적으로 구상하여 계획에 따라 수집해야 한다. \n",
    "- 직접적인 경험 : 설문 조사, 인터뷰, 실험, 관찰 등\n",
    "- 다양한 매체 이용 : 책, 텔레비전, 인터넷 등\n"
   ]
  },
  {
   "cell_type": "markdown",
   "id": "cea55188-62ee-49fb-bc39-766ab8b310d4",
   "metadata": {},
   "source": [
    "<table>\n",
    "  <tr>\n",
    "    <th>용어의 의미, 관련 사례, 정보 수집</th>\n",
    "    <th align=left>• 위키피디아(https://ko.wikipedia.org/)<br>\n",
    "• 웹 검색 엔진(구글, 네이버, 다음 등) </th>\n",
    "    </tr>\n",
    "    <tr>\n",
    "    <th>설문 조사를 이용한 자료 수집</th>\n",
    "      <th align=left>• 구글 설문지(https://docs.google.com/forms/)<br>\n",
    "• 네이버 오피스(http://office.naver.com/) 등의 설문 조사 폼</th>\n",
    "          </tr>\n",
    "    <tr>\n",
    "        <th>통계 자료 수집</th>\n",
    "      <th align=left>• 국가통계포털(http://kosis.kr/)<br>\n",
    "• 국가지표체계(http://www.index.go.kr/)</th>\n",
    "  </tr>\n",
    "    <tr>\n",
    "    <th colspan=2>인터넷을 이용한 자료 수집 사이트 예</th>\n",
    "</tr>\n",
    "</table>\n",
    "\n",
    "\n"
   ]
  },
  {
   "cell_type": "markdown",
   "id": "6bb91fa5-6606-4477-8ccc-11b5d68c1e64",
   "metadata": {},
   "source": [
    "자료 정리의 기본은 분류를 잘하는 것이다.\n",
    "\n",
    "종류, 인물, 기간 등 주제에 따라 알맞은 분류 기준을 정하고 유사한 것끼리 일정한 형식으로 정리하면 보기도 편하고 관리하기 쉽다."
   ]
  },
  {
   "cell_type": "markdown",
   "id": "d3e54be5-b72c-4228-a5e5-1469356b00be",
   "metadata": {},
   "source": [
    "<div style=\"padding: 15px; border: 5px solid transparent; border-color: transparent; margin-bottom: 20px; border-radius: 4px; color: #8a6d3b;  border-color: #faebcc; font-weight: bold;\">\n",
    "    <div style=\"font-weight: bold; font-size: 20px\">✏️ [문제1]</div>\n",
    "    <br>\n",
    "다음의 ‘소음 공해’ 소설처럼 이웃 간의 소통과 배려로 해결할 수 있는 소음 문제가 있다. 소음으로 비롯되는 사회 문제에는 어떠한 것이 있는지 뉴스 기사를 수집하고, 소음을 줄일 수 있는 방법을 친구들과 함께 생각하여 보고서를 작성해 보자.<br>\n",
    "\n",
    "</div>"
   ]
  },
  {
   "cell_type": "markdown",
   "id": "1c618d88-0b7e-4d59-bc58-c859d35166f7",
   "metadata": {},
   "source": [
    "<table width=600>\n",
    "<tr>\n",
    "    <th align=left>주인공인 나는 지체 장애 단체에 봉사 활동을 마치고 돌아와서 지친 육신을 달래기 위해 커피 한 잔에 감미로운 음악을 듣고 있습니다. 그런데 난데없이 위층에서 드르륵거리는 정체불명의 소리가 들려 휴식은 깨지고 기분이 몹시 상합니다. 그동안 위층에서 계속되는 소리 때문에 온 가족이 위층에 대해 항의해 보았지만 달라지는 게 하나도 없습니다. 이웃 간에 직접 말하려니 미안해서 경비실을 통해 자주 말해 보았지만 조심하는 기색이 전혀 없습니다.<br><br>\n",
    "경비원도 귀찮고 성가셔하기는 마찬가지여서, 참다못한 주인공은 직접 인터폰으로 통화를 합니\n",
    "다. “참을 만큼 참았어요. 위층 소리 때문에 병이 날 지경입니다.” 그랬더니 대답이 “내 집에서 맘대로 움직이지도 못하나요? 이틀거리로 전화를 해 대니 저도 피가 마르네요.” 그 소리에 기가 막힌 주인공은 거칠게 수화기를 내려놓습니다.<br><br>\n",
    "주인공은 화가 날수록 침착하고 부드럽게 처신해야 한다는 중년의 지혜로 문제를 해결할 방법을\n",
    "찾습니다. 마침 지난겨울에 선물받은 실내용 슬리퍼가 생각났습니다. ‘푹신한 실내화를 선물로 주면 위층에서 미안해서라도 조용해지겠지.’라는 데 생각이 미치자 자신의 사려 깊음에 스스로 대견해합니다. 얼굴을 맞대고 공동생활의 규범에 대해 조곤조곤 타이르리라고 생각하며 위층에 올라가서 초인종을 눌렀더니 10분쯤 지나서야 문이 열렸습니다. 그런데 이게 어찌 된 일입니까? 좁은 현관을 꽉 메우며 나타난 여자가 달갑잖은 표정을 지으며 휠체어에 앉아 있는 것이 아니겠습니까?<br><br>\n",
    "“안 그래도 소리가 덜 나는 바퀴로 갈아 볼 생각이었어요. 죄송해요.” 그 말을 듣자 주인공은 황급히 휠체어에서 시선을 떼며 슬리퍼를 등 뒤로 감추었습니다.</th>\n",
    "    </tr>\n",
    "        <tr>\n",
    "        <th align='right'>\n",
    "        오정희, 〈소음 공해〉 중에서<br>\n",
    "출처: http://yeongnam.com/\n",
    "    </th>\n",
    "    </tr>\n",
    "</table>"
   ]
  },
  {
   "cell_type": "code",
   "execution_count": null,
   "id": "765213a4-419c-44f0-90de-59b6c5cb60c1",
   "metadata": {},
   "outputs": [],
   "source": [
    " 👉 \n",
    " 👉 "
   ]
  },
  {
   "cell_type": "markdown",
   "id": "f681e194-fb5a-4dd3-85cd-08eecd91351e",
   "metadata": {},
   "source": [
    "<div style=\"padding: 15px; border: 5px solid transparent; border-color: transparent; margin-bottom: 20px; border-radius: 4px; color: #8a6d3b;  border-color: #faebcc; font-weight: bold;\">\n",
    "    <div style=\"font-weight: bold; font-size: 20px\">✏️ [문제2]</div>\n",
    "    <br>\n",
    "소음 문제를 해결하기 위해 친구들이 좋아하는 소리와 싫어하는 소리를 ‘인터넷 설문 조사’를 활용하여 수집해 보자.<br><br>\n",
    "&nbsp;&nbsp;(1) 설문 조사가 가능한 웹 사이트에 접속한다.<br>\n",
    "&nbsp;&nbsp;(2) 설문 조사 항목 중 원하는 템플릿을 선택하여 설문 문항을 작성한다.<br>\n",
    "&nbsp;&nbsp;(3) 클라우드에 설문 조사 폼을 저장하고, 친구들에게 이메일로 전송한다.<br>\n",
    "&nbsp;&nbsp;(4) 메일을 받은 친구들은 설문에 답하고, 결과를 전송한다.<br>\n",
    "&nbsp;&nbsp;(5) 응답 결과를 항목별로 백분율과 함께 확인하고, 친구들과 공유한다.<br>\n",
    "</div>"
   ]
  },
  {
   "cell_type": "code",
   "execution_count": null,
   "id": "25c32729-f0c3-42a3-9452-4396dcc9880c",
   "metadata": {},
   "outputs": [],
   "source": [
    " 👉 \n",
    " 👉 "
   ]
  },
  {
   "cell_type": "markdown",
   "id": "bcb73217-7a5c-4b05-8a12-2cd1db08af5a",
   "metadata": {},
   "source": [
    "<div style=\"padding: 15px; border: 5px solid transparent; border-color: transparent; margin-bottom: 20px; border-radius: 4px; color: #3c763d; border-color: #d6e9c6; font-weight: bold;\">\n",
    "<h2 style='font-weight: bold'>2. 정보의 구조화</h2>\n",
    "</div>"
   ]
  },
  {
   "cell_type": "markdown",
   "id": "ef83a709-8721-491c-9fc5-c7f00c99ec5b",
   "metadata": {},
   "source": [
    "구조화는 떨어져 있는 요소나 내용들을 효율적으로 처리하거나 정리하는 것이다. \n",
    "\n",
    "정보의 구조화란 전달하려고 하는 정보를 이해하기 쉽도록 정리하고 배치하여 정보 간의 관계를 다양한 형태로 조직화하는 과정을 말한다. \n",
    "- 정보를 구조화하면 정보의 가치와 유용성이 커진다.\n",
    "- 정보를 조직화하는 사람이나 목적에 따라 구조화하는 방법이 다르고, 다른 메시지를 전달할 수 있다. "
   ]
  },
  {
   "cell_type": "markdown",
   "id": "28532e06-ca41-4404-8cea-2cc492863872",
   "metadata": {},
   "source": [
    "\n",
    "<table>\n",
    "<tr>\n",
    "    <th><img src=\"https://tmn-bucket-materials-all.s3.ap-northeast-2.amazonaws.com/image/textbook/ybm_02_02_01.png\" width=\"700\"></th>\n",
    "    </tr>\n",
    "<tr>\n",
    "    <th> 정보 구조화의 예</th>\n",
    "</tr>\n",
    "</table>"
   ]
  },
  {
   "cell_type": "markdown",
   "id": "dcc2d731-b390-4d8e-86f7-071a431696f3",
   "metadata": {},
   "source": [
    "정보의 종류는 다양하고, 정보마다 효과적으로 구조화할 수 있는 방법이 다르다.\n",
    "- 표 : 서로 기준이 다른 세로줄과 가로줄을 이용하여 정보의 의미를 전달하는 값의\n",
    "모임 ex) 학급 출석부, 성적표, 비상 연락망, 시간표 등\n",
    "- 다이어그램 : 자료를 기호, 선, 점 등을 사용하여 자료의 상호 관계, 과정, 구조 등을 구조화하는 방법 ex)  차트 , 그래프 , 트리 구조 , 마인드맵, 순서도 등\n"
   ]
  },
  {
   "cell_type": "markdown",
   "id": "e88620de-0b40-4380-954f-6f5305aba459",
   "metadata": {},
   "source": [
    "<table>\n",
    "<tr>\n",
    "    <th>\n",
    "<table>\n",
    "<tr>\n",
    "    <th><img src=\"https://tmn-bucket-materials-all.s3.ap-northeast-2.amazonaws.com/image/textbook/ybm_02_02_02.png\" width=\"500\"></th>\n",
    "    </tr>\n",
    "<tr>\n",
    "    <th> 우리 반 요일별 소음 측정 표의 예</th>\n",
    "</tr>\n",
    "</table>\n",
    "</th>\n",
    "<th>\n",
    "<table>\n",
    "<tr>\n",
    "    <th><img src=\"https://tmn-bucket-materials-all.s3.ap-northeast-2.amazonaws.com/image/textbook/ybm_02_02_03.png\" width=\"500\"></th>\n",
    "    </tr>\n",
    "<tr>\n",
    "    <th> 우리 반 시간대별 소음 크기 차트의 예</th>\n",
    "</tr>\n",
    "</table>\n",
    "    </th>\n",
    "</tr>\n",
    "</table>"
   ]
  },
  {
   "cell_type": "markdown",
   "id": "5354ac61-df48-4df1-84cf-e64855c73980",
   "metadata": {},
   "source": [
    "- 마인드맵 : 마음속에 지도를 그리듯이 줄거리를 이해하며 정리하는 방법\n",
    "- 순서도 : 다이어그램의 종류 중 하나로, 여러 종류의 상자와 화살표를 이용하여 명령의 순서를 보여 주는 방법"
   ]
  },
  {
   "cell_type": "markdown",
   "id": "99d1db5a-71b3-4988-abbc-e25e4cda022d",
   "metadata": {},
   "source": [
    "<table>\n",
    "<tr>\n",
    "    <th>\n",
    "<table>\n",
    "<tr>\n",
    "    <th><img src=\"https://tmn-bucket-materials-all.s3.ap-northeast-2.amazonaws.com/image/textbook/ybm_02_02_04.png\" width=\"500\"></th>\n",
    "    </tr>\n",
    "<tr>\n",
    "    <th> 마인드맵의 예</th>\n",
    "</tr>\n",
    "</table>\n",
    "</th>\n",
    "<th>\n",
    "<table>\n",
    "<tr>\n",
    "    <th><img src=\"https://tmn-bucket-materials-all.s3.ap-northeast-2.amazonaws.com/image/textbook/ybm_02_02_05.png\" width=\"300\"></th>\n",
    "    </tr>\n",
    "<tr>\n",
    "    <th> 순서도의 예</th>\n",
    "</tr>\n",
    "</table>\n",
    "    </th>\n",
    "</tr>\n",
    "</table>"
   ]
  },
  {
   "cell_type": "markdown",
   "id": "3991fe3f-c2e6-4bc8-9153-2a23aad464c8",
   "metadata": {},
   "source": [
    "- 트리 구조: 항목들이 나뭇가지처럼 연결되도록 정보를 구조화. 계층적으로 구성되어 정보 간의 관계를 한눈에 파악하기 쉽다. "
   ]
  },
  {
   "cell_type": "markdown",
   "id": "54261d96-ab1b-4628-ae7f-ea9be0014f8f",
   "metadata": {},
   "source": [
    "<table>\n",
    "    <tr>\n",
    "        <th>글</th>\n",
    "        <th>트리 구조</th>\n",
    "    </tr>\n",
    "<tr>\n",
    "    <td width=200 valign=top>우리 1학년 5반에는 반장 ‘나창의’와 부반장 ‘오차원’이 있고 그 아래에 학생부, 총무부, 체육부, 학습부, 환경 관리부의 다섯 부서가 있다. 각 부서의 부장은 ‘고지식’, ‘궁금희’, ‘무난해’, ‘이미소’, ‘박근면’이다.</td>\n",
    "    <td><img src=\"https://tmn-bucket-materials-all.s3.ap-northeast-2.amazonaws.com/image/textbook/ybm_02_02_06.png\" width=\"450\"></td>\n",
    "    </tr>\n",
    "<tr>\n",
    "    <th colspan=2> 트리 구조의 예</th>\n",
    "</tr>\n",
    "</table>"
   ]
  },
  {
   "cell_type": "markdown",
   "id": "aea7f2a3-22b4-4777-bb87-437a4bb3a3ae",
   "metadata": {},
   "source": [
    "- 인포그래픽 : 자료를 시각화하여 전달하고자 하는 내용을 이해하기 쉽게 표현"
   ]
  },
  {
   "cell_type": "markdown",
   "id": "9ae17da2-64fb-4fc5-bfc4-905834eda717",
   "metadata": {},
   "source": [
    "<table>\n",
    "<tr>\n",
    "    <th><img src=\"https://tmn-bucket-materials-all.s3.ap-northeast-2.amazonaws.com/image/textbook/ybm_02_02_07.png\" width=\"500\"></th>\n",
    "    </tr>\n",
    "<tr>\n",
    "    <th align=right>출처: http://todayinfo.thestoryplus.com/</th>\n",
    "</tr>\n",
    "<tr>\n",
    "    <th>인포그래픽의 예</th>\n",
    "</tr>\n",
    "</table>"
   ]
  },
  {
   "cell_type": "markdown",
   "id": "3c9de514-25a7-4afe-9aed-5ab25964210d",
   "metadata": {},
   "source": [
    "<div style=\"padding: 15px; border: 5px solid transparent; border-color: transparent; margin-bottom: 20px; border-radius: 4px; color: #8a6d3b;  border-color: #faebcc; font-weight: bold;\">\n",
    "    <div style=\"font-weight: bold; font-size: 20px\">✏️ [문제3]</div>\n",
    "    <br>\n",
    "자신과 관련된 통계 정보를 이용하여 나의 모습을 인포그래픽으로 구조화해 보자.<br>\n",
    "국가통계포털(http://kosis.kr/)에서 제공하는 ‘통계로 보는 자화상’의 다양한 설문 조사를 이용하여 나의 모습을 인포그래픽으로 확인할 수 있다.<br><br>\n",
    "    <div>\n",
    "        <img src='https://tmn-bucket-materials-all.s3.ap-northeast-2.amazonaws.com/image/textbook/ybm_02_02_08.png'>\n",
    "    </div>\n",
    "</div>"
   ]
  },
  {
   "cell_type": "code",
   "execution_count": null,
   "id": "531e636b-6a9b-4476-8f44-8d83a835d846",
   "metadata": {},
   "outputs": [],
   "source": [
    " 👉 \n",
    " 👉 "
   ]
  }
 ],
 "metadata": {
  "kernelspec": {
   "display_name": "Python 3 (ipykernel)",
   "language": "python",
   "name": "python3"
  },
  "language_info": {
   "codemirror_mode": {
    "name": "ipython",
    "version": 3
   },
   "file_extension": ".py",
   "mimetype": "text/x-python",
   "name": "python",
   "nbconvert_exporter": "python",
   "pygments_lexer": "ipython3",
   "version": "3.10.13"
  }
 },
 "nbformat": 4,
 "nbformat_minor": 5
}
