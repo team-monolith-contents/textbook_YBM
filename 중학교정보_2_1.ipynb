{
 "cells": [
  {
   "cell_type": "markdown",
   "id": "4cd46724-6014-43a2-ab51-dca66618fe86",
   "metadata": {},
   "source": [
    "<div style=\"padding: 15px; border: 5px solid transparent; border-color: transparent; margin-bottom: 20px; border-radius: 4px; color: #3c763d; background-color: #dff0d8; border-color: #d6e9c6; font-weight: bold;\">\n",
    "    <br><br>\n",
    "    <div style=\"font-weight: bold; font-size: 40px\">자료와 정보</div>\n",
    "    <div style=\"font-weight: bold; font-size: 20px\">[01] 자료와 정보의 표현</div>\n",
    "    <hr style=\"width:80%;text-align:left;margin-left:0;border:0.5px solid green\">\n",
    "    <br>\n",
    "    &#x2022; 디지털 정보의 속성과 특징을 설명할 수 있다. <br>\n",
    "    &#x2022; 다양한 형태로 표현되는 자료를 디지털 형태로 표현할 수 있다.<br>\n",
    "</div>"
   ]
  },
  {
   "cell_type": "markdown",
   "id": "807d180e-b63b-46fa-8700-9316dc98eb55",
   "metadata": {},
   "source": [
    "<div style=\"padding: 15px; border: 5px solid transparent; border-color: transparent; margin-bottom: 20px; border-radius: 4px; color: #3c763d; border-color: #d6e9c6; font-weight: bold;\">\n",
    "<h2 style='font-weight: bold'>1. 자료의 유형</h2>\n",
    "</div>"
   ]
  },
  {
   "cell_type": "markdown",
   "id": "01e09112-94a2-4c1c-9524-60b17a8b0b5f",
   "metadata": {},
   "source": [
    "우리는 일상에서 수많은 자료와 정보 를 접하며 살아간다.\n",
    "- 자료(data)는 관찰이나 실험, 조사로 얻은 값이나 사실\n",
    "- 정보(information)는 수집한 많은 자료를 실제 문제 해결에 도움이 될 수 있도록 처리하여 유용한 형태로 만든 것"
   ]
  },
  {
   "cell_type": "markdown",
   "id": "e52077b9-37dc-4ce3-8bb4-7e91b014fe30",
   "metadata": {},
   "source": [
    "<table>\n",
    "<tr>\n",
    "    <th><img src=\"https://tmn-bucket-materials-all.s3.ap-northeast-2.amazonaws.com/image/ai/AI-01-01.png\" width=\"500\"></th>\n",
    "    </tr>\n",
    "<tr>\n",
    "    <th>자료와 정보</th>\n",
    "</tr>\n",
    "</table>"
   ]
  },
  {
   "cell_type": "markdown",
   "id": "1adb88e3-f665-4596-b5cd-5ea0e699d64d",
   "metadata": {},
   "source": [
    "우리가 표현하는 정보 유형은 숫자, 문자, 그림, 소리, 동영상 등인데, 우리는 내용이나 상황에 따라 이 중 한 가지 또는 두 가지가 혼합된 형태로 정보를 표현한다. "
   ]
  },
  {
   "cell_type": "markdown",
   "id": "2d316bdc-47c2-49e5-a07a-b279e34e3971",
   "metadata": {},
   "source": [
    "\n",
    "<table>\n",
    "<tr>\n",
    "    <th><img src=\"https://tmn-bucket-materials-all.s3.ap-northeast-2.amazonaws.com/image/ai/AI-01-01.png\" width=\"500\"></th>\n",
    "    </tr>\n",
    "<tr>\n",
    "    <th>정보의 유형</th>\n",
    "</tr>\n",
    "</table>"
   ]
  },
  {
   "cell_type": "markdown",
   "id": "28bb83f5-a66b-4b02-b17e-7ab8e7c50604",
   "metadata": {},
   "source": [
    "정보의 특징을 잘 알고 표현하면 더욱 가치 있는 자료와 정보를 생산하고 효과적으로 전달할 수 있다."
   ]
  },
  {
   "cell_type": "markdown",
   "id": "ab94ae6f-86c9-4618-ac43-ad0ffecfb4fa",
   "metadata": {},
   "source": [
    "    \n",
    "<table width=500>\n",
    "  <tr>\n",
    "    <th width=100>정보의 유형</th>\n",
    "    <th>특 성</th>\n",
    "  </tr>\n",
    "  <tr>\n",
    "    <th>숫자</th>\n",
    "    <th align=left>계산이 가능한 정보로, 정보의 양이나 크기를 표현한다.</th>\n",
    "  </tr>\n",
    "  <tr>\n",
    "    <th>문자</th>\n",
    "    <th align=left>가장 기본적이고 널리 사용되는 정보 표현 형태이며, 다양한 모양과 색\n",
    "상의 문자로 작성하면 효과적으로 정보를 표현할 수 있다.</th>\n",
    "  </tr>\n",
    "  <tr>\n",
    "    <th>그림</th>\n",
    "    <th align=left>많은 문자로 표현된 정보를 약도, 사진, 포스터 등과 같은 그림으로 표\n",
    "현하면 더 쉽고 정확하게 의미를 전달할 수 있다.</th>\n",
    "  </tr>\n",
    "  <tr>\n",
    "    <th>소리</th>\n",
    "    <th align=left>가장 오래된 정보 전달 수단으로 음악, 강의, 친구들의 이야기 등과 같\n",
    "이 귀를 통해 들을 수 있다.</th>\n",
    "  </tr>\n",
    "  <tr>\n",
    "    <th>동영상</th>\n",
    "    <th align=left>영화, 애니메이션과 같이 소리와 그림을 함께 보여 주어 정보를 효율적\n",
    "으로 전달한다.</th>\n",
    "  </tr>\n",
    "    <tr>\n",
    "    <th colspan=2>정보의 유형과 특성</th>\n",
    "</tr>\n",
    "</table>\n",
    "\n",
    "\n"
   ]
  },
  {
   "cell_type": "markdown",
   "id": "f4a31103-be87-4699-beb7-c4551cf86b97",
   "metadata": {},
   "source": [
    "자료와 정보는 표현 방법에 따라 아날로그와 디지털로 구분할 수 있다."
   ]
  },
  {
   "cell_type": "markdown",
   "id": "959e896c-a9bf-4b49-b53d-ed887b7d03f5",
   "metadata": {},
   "source": [
    "<table>\n",
    "<tr>\n",
    "    <th><img src=\"https://tmn-bucket-materials-all.s3.ap-northeast-2.amazonaws.com/image/ai/AI-01-01.png\" width=\"500\"></th>\n",
    "    </tr>\n",
    "<tr>\n",
    "    <th>아날로그와 디지털의 차이</th>\n",
    "</tr>\n",
    "</table>"
   ]
  },
  {
   "cell_type": "markdown",
   "id": "7ec3ff7d-ebd6-4de3-870b-cde925ec84c3",
   "metadata": {},
   "source": [
    "<table>\n",
    "    <tr>\n",
    "    <th>표현 방법</th>\n",
    "    <th>특징</th>\n",
    "    <th>온도</th>\n",
    "    <th>속도</th>\n",
    "    </tr>\n",
    "<tr>\n",
    "    <th>아날로그</th>\n",
    "    <th align=left>• 밝기, 온도, 길이, 각도 등 연속적으로 변화하는 자료(값)를 나타내는 방식이다.<br>\n",
    "• 아주 미세한 차이도 나타낼 수 있다.</th>\n",
    "    <th><img src=\"https://tmn-bucket-materials-all.s3.ap-northeast-2.amazonaws.com/image/ai/AI-01-01.png\" width=\"200\"></th>\n",
    "    <th><img src=\"https://tmn-bucket-materials-all.s3.ap-northeast-2.amazonaws.com/image/ai/AI-01-01.png\" width=\"200\"></th>\n",
    "    </tr>\n",
    "   <tr>\n",
    "    <th>디지털</th>\n",
    "    <th align=left>• 연속된 자료(값)를 일정한 간격으로 끊어서 숫자의 형태로 명확하게 나타내는 방식이다.<br>\n",
    "• 미리 정해진 숫자로 정보를 나타내므로 단순하고 명확하다.</th>\n",
    "    <th><img src=\"https://tmn-bucket-materials-all.s3.ap-northeast-2.amazonaws.com/image/ai/AI-01-01.png\" width=\"200\"></th>\n",
    "    <th><img src=\"https://tmn-bucket-materials-all.s3.ap-northeast-2.amazonaws.com/image/ai/AI-01-01.png\" width=\"200\"></th>\n",
    "    </tr>\n",
    "<tr><th colspan=4>아날로그와 디지털 표현의 예</th></tr>\n",
    "</table>"
   ]
  },
  {
   "cell_type": "markdown",
   "id": "550bb6ed-e10e-4fd7-9a6b-b79b0437be72",
   "metadata": {},
   "source": [
    "컴퓨터는 전기의 흐름(on)과 흐르지 않음(off)의 두 가지 신호로 모든 것이 처리된다.\n",
    "- 전기가 흐르면(on) ‘1’\n",
    "- 흐르지 않으면(off) ‘0’\n",
    "- 이진수 디지털 표현 방법을 사용하여 정보를 처리하고 기억"
   ]
  },
  {
   "cell_type": "markdown",
   "id": "11e68d28-a7bd-4d5c-9def-adcc73041fe7",
   "metadata": {},
   "source": [
    "<table>\n",
    "<tr>\n",
    "    <th><img src=\"https://tmn-bucket-materials-all.s3.ap-northeast-2.amazonaws.com/image/ai/AI-01-01.png\" width=\"500\"></th>\n",
    "    </tr>\n",
    "<tr>\n",
    "    <th>이진수로 표현한 디지털 정보</th>\n",
    "</tr>\n",
    "</table>"
   ]
  },
  {
   "cell_type": "markdown",
   "id": "92e880c4-1026-4b03-972e-ea5fc4769de4",
   "metadata": {},
   "source": [
    "실생활에서 사용하는 숫자, 문자, 그림, 소리, 동영상 등의 아날로그 정보는 컴퓨\n",
    "터에서 0과 1의 조합으로 이루어진 디지털 정보로 변환되어 처리된다."
   ]
  },
  {
   "cell_type": "markdown",
   "id": "f9902e7e-66a5-497a-92ad-d1f6df4861cb",
   "metadata": {},
   "source": [
    "<table>\n",
    "<tr>\n",
    "    <th><img src=\"https://tmn-bucket-materials-all.s3.ap-northeast-2.amazonaws.com/image/ai/AI-01-01.png\" width=\"500\"></th>\n",
    "    </tr>\n",
    "<tr>\n",
    "    <th>컴퓨터에서의 자료와 정보 표현</th>\n",
    "</tr>\n",
    "</table>"
   ]
  },
  {
   "cell_type": "markdown",
   "id": "33aa4be1-898c-4d87-ac4a-d29f22aa08ec",
   "metadata": {},
   "source": [
    "디지털화된 자료는 아날로그 자료보다 정보 기기를 이용하여 저장이 쉽고, 복제,\n",
    "삭제, 편집이 간편하며 변형의 우려가 적다. 또한 시간과 거리의 제약 없이 전송과\n",
    "공유가 쉽다."
   ]
  },
  {
   "cell_type": "markdown",
   "id": "67d6c3b7-47d4-4256-a777-ca82357752da",
   "metadata": {},
   "source": [
    "<table>\n",
    "<tr>\n",
    "    <th><img src=\"https://tmn-bucket-materials-all.s3.ap-northeast-2.amazonaws.com/image/ai/AI-01-01.png\" width=\"500\"></th>\n",
    "    </tr>\n",
    "<tr>\n",
    "    <th>디지털 표현의 특징</th>\n",
    "</tr>\n",
    "</table>"
   ]
  },
  {
   "cell_type": "markdown",
   "id": "0f5bd170-3bc4-4769-867d-83eb8d6fd27f",
   "metadata": {},
   "source": [
    "<div style=\"padding: 15px; border: 5px solid transparent; border-color: transparent; margin-bottom: 20px; border-radius: 4px; color: #8a6d3b;  border-color: #faebcc; font-weight: bold;\">\n",
    "    <div style=\"font-weight: bold; font-size: 20px\">✏️ [문제1]</div>\n",
    "    <br>\n",
    "다음 (A)와 (B)의 차이점은 무엇일까?<br>\n",
    "</div>"
   ]
  },
  {
   "cell_type": "markdown",
   "id": "7856db7a-8113-4cb0-b6e6-3153d7910afc",
   "metadata": {},
   "source": [
    "<table>\n",
    "<tr>\n",
    "    <th>(A)</th>\n",
    "    <th><img src=\"https://tmn-bucket-materials-all.s3.ap-northeast-2.amazonaws.com/image/ai/AI-01-01.png\" width=\"200\"></th>\n",
    "    <th><img src=\"https://tmn-bucket-materials-all.s3.ap-northeast-2.amazonaws.com/image/ai/AI-01-01.png\" width=\"200\"></th>\n",
    "        <th><img src=\"https://tmn-bucket-materials-all.s3.ap-northeast-2.amazonaws.com/image/ai/AI-01-01.png\" width=\"200\"></th>\n",
    "    </tr>\n",
    "   <tr>\n",
    "    <th>(B)</th>\n",
    "    <th><img src=\"https://tmn-bucket-materials-all.s3.ap-northeast-2.amazonaws.com/image/ai/AI-01-01.png\" width=\"200\"></th>\n",
    "    <th><img src=\"https://tmn-bucket-materials-all.s3.ap-northeast-2.amazonaws.com/image/ai/AI-01-01.png\" width=\"200\"></th>\n",
    "           <th><img src=\"https://tmn-bucket-materials-all.s3.ap-northeast-2.amazonaws.com/image/ai/AI-01-01.png\" width=\"200\"></th>\n",
    "    </tr>\n",
    "\n",
    "</table>"
   ]
  },
  {
   "cell_type": "code",
   "execution_count": null,
   "id": "e44b7803-60a1-4d72-805b-9a5a5f7ffd83",
   "metadata": {},
   "outputs": [],
   "source": [
    " 👉 \n",
    " 👉 "
   ]
  },
  {
   "cell_type": "markdown",
   "id": "bcb73217-7a5c-4b05-8a12-2cd1db08af5a",
   "metadata": {},
   "source": [
    "<div style=\"padding: 15px; border: 5px solid transparent; border-color: transparent; margin-bottom: 20px; border-radius: 4px; color: #3c763d; border-color: #d6e9c6; font-weight: bold;\">\n",
    "<h2 style='font-weight: bold'>2. 디지털 표현</h2>\n",
    "</div>"
   ]
  },
  {
   "cell_type": "markdown",
   "id": "cc4b9256-7ff8-46ed-a240-7330fae0200b",
   "metadata": {},
   "source": [
    " 0부터 9까지 10개의 수로 표현하는 십진수를 컴퓨터에 입력하면, 컴퓨터는 이것을 자신이 이해할 수 있는 0과 1로 표현하는 이진수로 바꾸어 처리한다."
   ]
  },
  {
   "cell_type": "markdown",
   "id": "d0a65ce1-5f73-4518-8bf6-5037f208b093",
   "metadata": {},
   "source": [
    "    \n",
    "<table width=800>\n",
    "  <tr>\n",
    "    <th>9(십진수) → 1001(이진수)</th>\n",
    "    <th>1001(이진수) → 9(십진수)</th>\n",
    "  </tr>\n",
    "  <tr>\n",
    "    <th><img src=''></th>\n",
    "    <th><img src=''></th>\n",
    "  </tr>\n",
    "  <tr>\n",
    "    <th align=left>주어진 십진수를 2로 나누고, 구해진 몫이 더 이상 나뉘지 않을 때까지 2로 계속 나눈다. 몫이 나누는 수인 2보다 작을 때 구해진 나머지 값들을 역순으로 표기한다.\n",
    "</th>\n",
    "    <th align=left>이진수를 2의 거듭제곱으로 나타낸 전개식을 이용한다.</th>\n",
    "  </tr>\n",
    "  <tr>\n",
    "    <th colspan=2><img src=''></th>\n",
    "  </tr>    \n",
    "    <tr>\n",
    "    <th colspan=2>이진수 각 자릿값 (8, 4, 2, 1)을 조합하여 카드가 앞면인 경우는 1로, 뒷면일 경우는 0으로 표현하면 이진수 1001이고, 십진수로는 9이다.</th>\n",
    "</tr>\n",
    "    <tr>\n",
    "    <th colspan=2>진수 간의 변환</th>\n",
    "</tr>\n",
    "</table>\n",
    "\n",
    "\n"
   ]
  },
  {
   "cell_type": "markdown",
   "id": "8114a4d5-0374-4dc2-a0e2-e6bac657b019",
   "metadata": {},
   "source": [
    "컴퓨터에서 0 또는 1 가운데 한 가지 신호를 나타내는 이진수 한 자리를 비트 라고 하며, 비트의 수에 따라 자료의 표현 범위가 달라진다. "
   ]
  },
  {
   "cell_type": "markdown",
   "id": "7158b28c-9416-42f3-8287-642e860927af",
   "metadata": {},
   "source": [
    "    \n",
    "<table>\n",
    "  <tr>\n",
    "    <th>1비트</th>\n",
    "      <th>0</th>\n",
    "      <th>1</th>\n",
    "      <th></th>\n",
    "      <th></th>\n",
    "      <th></th>\n",
    "      <th></th>\n",
    "      <th></th>\n",
    "      <th></th>\n",
    "      <th>2<sup>1</sup> = 2개</th>\n",
    "  </tr>\n",
    "    <tr>\n",
    "    <th>2비트</th>\n",
    "      <th>00</th>\n",
    "      <th>01</th>\n",
    "      <th>10</th>\n",
    "      <th>11</th>\n",
    "      <th></th>\n",
    "      <th></th>\n",
    "      <th></th>\n",
    "      <th></th>\n",
    "      <th>2<sup>2</sup> = 4개</th>\n",
    "  </tr>\n",
    "      <tr>\n",
    "    <th>3비트</th>\n",
    "      <th>000</th>\n",
    "      <th>001</th>\n",
    "      <th>010</th>\n",
    "      <th>011</th>\n",
    "      <th>100</th>\n",
    "      <th>101</th>\n",
    "      <th>110</th>\n",
    "      <th>111</th>\n",
    "      <th>2<sup>3</sup> = 8개</th>\n",
    "  </tr>\n",
    "      <tr>\n",
    "    <th rowspan=2>4비트</th>\n",
    "      <th>0000</th>\n",
    "      <th>0001</th>\n",
    "      <th>0010</th>\n",
    "      <th>0011</th>\n",
    "      <th>0100</th>\n",
    "      <th>0101</th>\n",
    "      <th>0110</th>\n",
    "      <th>0111</th>\n",
    "      <th rowspan=2>2<sup>4</sup> = 16개</th>\n",
    "  </tr>\n",
    "          <tr>\n",
    "      <th>1000</th>\n",
    "      <th>1001</th>\n",
    "      <th>1010</th>\n",
    "      <th>1011</th>\n",
    "      <th>1100</th>\n",
    "      <th>1101</th>\n",
    "      <th>1110</th>\n",
    "      <th>0000</th>\n",
    "  </tr>\n",
    "    <tr>\n",
    "    <th colspan=10>비트 수에 따른 자료 표현 수</th>\n",
    "</tr>\n",
    "</table>\n",
    "\n",
    "\n"
   ]
  },
  {
   "cell_type": "markdown",
   "id": "2acdeee0-8112-41f8-8486-1c5a2bf13e05",
   "metadata": {},
   "source": [
    "문자, 특수 기호 등을 컴퓨터에서 사용하려면 입력되는 문자를 이진수로 바꾸어야 한다.\n",
    "- 문자 코드 : 문자별로 약속된 이진수의 값\n",
    "- 아스키코드 : 영문자, 숫자, 부호 등을 표현\n",
    "- 유니코드 : 한국어, 중국어, 아랍어 등과 같은 다양한 언어를 표현"
   ]
  },
  {
   "cell_type": "markdown",
   "id": "353fb9a3-40ef-4f7c-8377-c4ef4dd1f78e",
   "metadata": {},
   "source": [
    "    \n",
    "<table>\n",
    "  <tr>\n",
    "    <th colspan=2>아스키코드</th>\n",
    "      <th colspan=3>유니코드</th>\n",
    "  </tr>\n",
    "    <tr>\n",
    "    <th>문자</th>\n",
    "      <th>이진수</th>\n",
    "      <th colspan=2>문자</th>\n",
    "      <th width=200>이진수</th>\n",
    "  </tr>\n",
    "      <tr>\n",
    "    <th>C</th>\n",
    "      <th>1000011</th>\n",
    "      <th>한글</th>\n",
    "      <th>가</th>\n",
    "      <th>1010110000000000</th>\n",
    "  </tr>\n",
    "          <tr>\n",
    "    <th>O</th>\n",
    "      <th>1001111</th>\n",
    "      <th>한자</th>\n",
    "      <th>日</th>\n",
    "      <th>0110010111100101</th>\n",
    "  </tr>\n",
    "          <tr>\n",
    "    <th>M</th>\n",
    "      <th>1001101</th>\n",
    "      <th>아랍어</th>\n",
    "      <th>ێ</th>\n",
    "      <th>0000011000100110</th>\n",
    "  </tr>\n",
    "    <tr>\n",
    "    <th colspan=5>아스키코드와 유니코드의 예</th>\n",
    "</tr>\n",
    "</table>\n",
    "\n",
    "\n"
   ]
  },
  {
   "cell_type": "markdown",
   "id": "0a3700e7-ed48-43db-bef0-c7e9f89d1245",
   "metadata": {},
   "source": [
    "그림을 컴퓨터에서 표현하는 방식에는 점을 찍어서 그림을 표현하는 비트맵 방식과 선과 도형으로 그림을 표현하는 벡터 방식이 있다. "
   ]
  },
  {
   "cell_type": "markdown",
   "id": "f2c2d44a-1440-4390-82aa-de7bcfdb4cc8",
   "metadata": {},
   "source": [
    "<table>\n",
    "  <tr>\n",
    "    <th>구분</th>\n",
    "            <th>비트맵 방식</th>\n",
    "<th>벡터 방식</th>\n",
    "  </tr>\n",
    "    <tr>\n",
    "    <th>장점</th>\n",
    "      <th>사실적인 표현이 가능하다.</th>\n",
    "      <th>이미지를 확대 축소해도 변형되지 않는다.</th>\n",
    "  </tr>\n",
    "      <tr>\n",
    "    <th>단점</th>\n",
    "      <th>그림을 확대하면 계단 현상이 나타난다</th>\n",
    "      <th>섬세하고 사실적인 표현이 어렵다.</th>\n",
    "  </tr>\n",
    "          <tr>\n",
    "    <th>파일 형식</th>\n",
    "      <th>jpg, bmp, gif, png, psd 등</th>\n",
    "      <th>ai, eps, fla 등</th>\n",
    "  </tr>\n",
    "    <tr>\n",
    "    <th colspan=3>비트맵 방식과 벡터 방식</th>\n",
    "</tr>\n",
    "</table>\n",
    "\n",
    "\n"
   ]
  },
  {
   "cell_type": "markdown",
   "id": "51298e8d-64e5-468a-bd08-1e50b5c40aa8",
   "metadata": {},
   "source": [
    "비트맵 방식은 하나하나의 점들이 모여서 그림이 되는 방법인데, 컴퓨터에서는 이 점의 정보를 이진수로 표현하여 저장한다."
   ]
  },
  {
   "cell_type": "markdown",
   "id": "9ec3c92c-e66b-4e3f-bde8-4fa847c4ae14",
   "metadata": {},
   "source": [
    "<table>\n",
    "<tr>\n",
    "    <th><img src=\"https://tmn-bucket-materials-all.s3.ap-northeast-2.amazonaws.com/image/ai/AI-01-01.png\" width=\"500\"></th>\n",
    "    </tr>\n",
    "<tr>\n",
    "    <th>비트맵 방식의 표현 예</th>\n",
    "</tr>\n",
    "</table>"
   ]
  },
  {
   "cell_type": "markdown",
   "id": "6f7ea89f-91d7-4d64-b153-588529a04a78",
   "metadata": {},
   "source": [
    "벡터 방식은 점과 점을 이어서 선을 만들고 선을 이어 도형을 만드는 점선 그리기와 같이 점과 선 등의 수학적 정보를 이진수로 처리하여 저장한다."
   ]
  },
  {
   "cell_type": "markdown",
   "id": "cd5ec969-592f-4079-b914-deb10e4dcadc",
   "metadata": {},
   "source": [
    "<table>\n",
    "<tr>\n",
    "    <th><img src=\"https://tmn-bucket-materials-all.s3.ap-northeast-2.amazonaws.com/image/ai/AI-01-01.png\" width=\"500\"></th>\n",
    "    </tr>\n",
    "<tr>\n",
    "    <th>벡터 방식의 표현 예</th>\n",
    "</tr>\n",
    "</table>"
   ]
  },
  {
   "cell_type": "markdown",
   "id": "99c29ef8-2685-4f0a-a070-351b15744707",
   "metadata": {},
   "source": [
    "눈에 보이지 않는 소리 자료는 진동으로 표현되는 아날로그 자료이다. 이러한 소리 자료는 컴퓨터가 인식하지 못하므로 0과 1로 표현되는 디지털 자료로 바꾸어야 한다."
   ]
  },
  {
   "cell_type": "markdown",
   "id": "8b9fb1d7-8883-4e40-985e-64a3217c257a",
   "metadata": {},
   "source": [
    "<table>\n",
    "<tr>\n",
    "    <th><img src=\"https://tmn-bucket-materials-all.s3.ap-northeast-2.amazonaws.com/image/ai/AI-01-01.png\" width=\"500\"></th>\n",
    "    </tr>\n",
    "<tr>\n",
    "    <th>소리 자료 표현</th>\n",
    "</tr>\n",
    "</table>"
   ]
  },
  {
   "cell_type": "markdown",
   "id": "c2f0efb4-6489-45fe-b885-5a9cbc74b492",
   "metadata": {},
   "source": [
    "동영상은 사람의 눈에 여러 장의 사진이나 그림을 연속적으로 보여 주면 실제로 움직이는 것처럼 보이는 잔상 효과에 따른 것이다. 보통 소리 정보도 같이 포함하여 저장된다. "
   ]
  },
  {
   "cell_type": "markdown",
   "id": "c9494bd8-9977-4dd6-b183-6215b975c35a",
   "metadata": {},
   "source": [
    "<table>\n",
    "<tr>\n",
    "    <th><img src=\"https://tmn-bucket-materials-all.s3.ap-northeast-2.amazonaws.com/image/ai/AI-01-01.png\" width=\"500\"></th>\n",
    "    </tr>\n",
    "<tr>\n",
    "    <th>동영상 자료 표현</th>\n",
    "</tr>\n",
    "</table>"
   ]
  },
  {
   "cell_type": "markdown",
   "id": "42124811-c8ae-44ab-a71a-0f9f93465fa6",
   "metadata": {},
   "source": [
    "<div style=\"padding: 15px; border: 5px solid transparent; border-color: transparent; margin-bottom: 20px; border-radius: 4px; color: #8a6d3b;  border-color: #faebcc; font-weight: bold;\">\n",
    "    <div style=\"font-weight: bold; font-size: 20px\">✏️ [문제2]</div>\n",
    "    <br>\n",
    "디지털시계에서 하나의 숫자는 7개의 빛을 내는 소자의 조합이다. 불이 켜지는 소자는 ‘1’로, 꺼지는 소자는 ‘0’으로 표시하여 다음의 숫자를 이진수로 표현해 보자.<br>\n",
    "    <img src=''>\n",
    "</div>"
   ]
  },
  {
   "cell_type": "code",
   "execution_count": null,
   "id": "20a7e5e4-ada3-4a15-b0e1-7ee6d4cbc63b",
   "metadata": {},
   "outputs": [],
   "source": [
    " 👉 \n",
    " 👉 "
   ]
  }
 ],
 "metadata": {
  "kernelspec": {
   "display_name": "Python 3 (ipykernel)",
   "language": "python",
   "name": "python3"
  },
  "language_info": {
   "codemirror_mode": {
    "name": "ipython",
    "version": 3
   },
   "file_extension": ".py",
   "mimetype": "text/x-python",
   "name": "python",
   "nbconvert_exporter": "python",
   "pygments_lexer": "ipython3",
   "version": "3.10.13"
  }
 },
 "nbformat": 4,
 "nbformat_minor": 5
}
